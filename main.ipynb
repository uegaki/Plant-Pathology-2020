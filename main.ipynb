{
 "cells": [
  {
   "cell_type": "code",
   "execution_count": 1,
   "id": "respected-model",
   "metadata": {},
   "outputs": [],
   "source": [
    "import numpy as np # linear algebra\n",
    "import pandas as pd # data processing, CSV file I/O (e.g. pd.read_csv)\n",
    "import os\n",
    "\n",
    "import shutil\n",
    "from shutil import copyfile\n",
    "\n",
    "%matplotlib inline\n",
    "\n",
    "import matplotlib.pyplot as plt\n",
    "import matplotlib.image as mpimg\n",
    "\n",
    "import tensorflow as tf\n",
    "import keras_preprocessing\n",
    "from keras_preprocessing import image\n",
    "from keras_preprocessing.image import ImageDataGenerator"
   ]
  },
  {
   "cell_type": "code",
   "execution_count": 2,
   "id": "democratic-repeat",
   "metadata": {},
   "outputs": [],
   "source": [
    "train = pd.read_csv(\"input/train.csv\", index_col=0)\n",
    "test = pd.read_csv(\"input/test.csv\", index_col=0)\n",
    "output = pd.read_csv(\"input/sample_submission.csv\")"
   ]
  },
  {
   "cell_type": "code",
   "execution_count": 3,
   "id": "approved-stephen",
   "metadata": {},
   "outputs": [
    {
     "name": "stdout",
     "output_type": "stream",
     "text": [
      "(1456, 4)\n",
      "(365, 4)\n"
     ]
    }
   ],
   "source": [
    "from sklearn.model_selection import train_test_split\n",
    "\n",
    "train_set, valid_set = train_test_split(train, test_size=0.2, random_state=42)\n",
    "\n",
    "print(train_set.shape)\n",
    "print(valid_set.shape)"
   ]
  },
  {
   "cell_type": "code",
   "execution_count": null,
   "id": "intensive-laser",
   "metadata": {},
   "outputs": [],
   "source": [
    "# train directory\n",
    "os.mkdir('images/train')\n",
    "os.mkdir('images/train/healthy')\n",
    "os.mkdir('images/train/multiple_diseases')\n",
    "os.mkdir('images/train/rust')\n",
    "os.mkdir('images/train/scab')"
   ]
  },
  {
   "cell_type": "code",
   "execution_count": null,
   "id": "forty-mailing",
   "metadata": {},
   "outputs": [],
   "source": [
    "# valid directory\n",
    "os.mkdir('images/valid')\n",
    "os.mkdir('images/valid/healthy')\n",
    "os.mkdir('images/valid/multiple_diseases')\n",
    "os.mkdir('images/valid/rust')\n",
    "os.mkdir('images/valid/scab')"
   ]
  },
  {
   "cell_type": "code",
   "execution_count": null,
   "id": "unauthorized-geography",
   "metadata": {
    "scrolled": true
   },
   "outputs": [],
   "source": [
    "train.head(10)"
   ]
  },
  {
   "cell_type": "code",
   "execution_count": null,
   "id": "hollywood-briefs",
   "metadata": {
    "scrolled": true
   },
   "outputs": [],
   "source": [
    "train.describe().transpose()"
   ]
  },
  {
   "cell_type": "code",
   "execution_count": null,
   "id": "stunning-bahamas",
   "metadata": {},
   "outputs": [],
   "source": [
    "train.shape"
   ]
  },
  {
   "cell_type": "code",
   "execution_count": null,
   "id": "resident-anatomy",
   "metadata": {},
   "outputs": [],
   "source": [
    "train.columns"
   ]
  },
  {
   "cell_type": "code",
   "execution_count": null,
   "id": "united-biography",
   "metadata": {},
   "outputs": [],
   "source": [
    "SOURCE = 'images/'\n",
    "\n",
    "TRAIN_DIR = 'images/train/'\n",
    "\n",
    "for index, data in train_set.iterrows():\n",
    "#     print(data)\n",
    "    label = train.columns[np.argmax(data)]\n",
    "    filepath = os.path.join(SOURCE, index + \".jpg\")\n",
    "#     print(filepath)\n",
    "    destination = os.path.join(TRAIN_DIR, label, index + \".jpg\")\n",
    "#     print(destination)\n",
    "    copyfile(filepath, destination)\n",
    "    \n",
    "for subdir in os.listdir(TRAIN_DIR):\n",
    "    print(subdir, len(os.listdir(os.path.join(TRAIN_DIR, subdir))))"
   ]
  },
  {
   "cell_type": "code",
   "execution_count": null,
   "id": "enabling-approach",
   "metadata": {},
   "outputs": [],
   "source": [
    "SOURCE = 'images/'\n",
    "\n",
    "VALID_DIR = 'images/valid/'\n",
    "\n",
    "for index, data in valid_set.iterrows():\n",
    "#     print(data)\n",
    "    label = train.columns[np.argmax(data)]\n",
    "    filepath = os.path.join(SOURCE, index + \".jpg\")\n",
    "#     print(filepath)\n",
    "    destination = os.path.join(VALID_DIR, label, index + \".jpg\")\n",
    "#     print(destination)\n",
    "    copyfile(filepath, destination)\n",
    "    \n",
    "for subdir in os.listdir(VALID_DIR):\n",
    "    print(subdir, len(os.listdir(os.path.join(VALID_DIR, subdir))))"
   ]
  },
  {
   "cell_type": "code",
   "execution_count": null,
   "id": "found-international",
   "metadata": {},
   "outputs": [],
   "source": [
    "healthy_dir = os.path.join(TRAIN_DIR, 'healthy')\n",
    "mdiseases_dir = os.path.join(TRAIN_DIR, 'multiple_diseases')\n",
    "scab_dir = os.path.join(TRAIN_DIR, 'scab')\n",
    "rust_dir = os.path.join(TRAIN_DIR, 'rust')\n",
    "\n",
    "healthy_files = os.listdir(healthy_dir)\n",
    "mdiseases_files = os.listdir(mdiseases_dir)\n",
    "scab_files = os.listdir(scab_dir)\n",
    "rust_files = os.listdir(rust_dir) "
   ]
  },
  {
   "cell_type": "code",
   "execution_count": null,
   "id": "effective-migration",
   "metadata": {},
   "outputs": [],
   "source": [
    "healthy_files"
   ]
  },
  {
   "cell_type": "code",
   "execution_count": null,
   "id": "going-simon",
   "metadata": {},
   "outputs": [],
   "source": [
    "healthy_files[0:2]"
   ]
  },
  {
   "cell_type": "code",
   "execution_count": null,
   "id": "running-transparency",
   "metadata": {},
   "outputs": [],
   "source": [
    "pic_index = 2\n",
    "\n",
    "next_healthy = [os.path.join(healthy_dir, fname) for fname in healthy_files[pic_index-2:pic_index]]\n",
    "next_mdiseases = [os.path.join(mdiseases_dir, fname) for fname in mdiseases_files[pic_index-2:pic_index]]\n",
    "next_scab = [os.path.join(scab_dir, fname) for fname in scab_files[pic_index-2:pic_index]]\n",
    "next_rust = [os.path.join(rust_dir, fname) for fname in rust_files[pic_index-2:pic_index]]\n",
    "\n",
    "nrows = 4\n",
    "ncols = 4\n",
    "\n",
    "fig = plt.gcf()\n",
    "fig.set_size_inches(ncols*4, nrows*4)\n",
    "\n",
    "for i, img_path in enumerate(next_healthy+next_mdiseases+next_scab+next_rust):\n",
    "    sp = plt.subplot(nrows, ncols, i + 1)\n",
    "    sp.axis('Off') # Don't show axes (or gridlines)\n",
    "    img = mpimg.imread(img_path)\n",
    "    plt.title(img_path.split('/')[2])\n",
    "    plt.imshow(img)\n",
    "    \n",
    "plt.show()"
   ]
  },
  {
   "cell_type": "code",
   "execution_count": null,
   "id": "dying-convenience",
   "metadata": {},
   "outputs": [],
   "source": [
    "training_datagen = ImageDataGenerator(rescale = 1./255,\n",
    "                                      rotation_range=40,\n",
    "                                      width_shift_range=0.2,\n",
    "                                      height_shift_range=0.2,\n",
    "                                      shear_range=0.2,\n",
    "                                      zoom_range=0.2,\n",
    "                                      horizontal_flip=True,\n",
    "                                      fill_mode='nearest')\n",
    "\n",
    "validation_datagen = ImageDataGenerator(rescale = 1./255)\n",
    "\n",
    "train_generator = training_datagen.flow_from_directory(TRAIN_DIR, target_size=(150,150), class_mode='categorical', batch_size=32)\n",
    "validation_generator = validation_datagen.flow_from_directory(VALID_DIR, target_size=(150,150), class_mode='categorical', batch_size=32)"
   ]
  },
  {
   "cell_type": "code",
   "execution_count": null,
   "id": "freelance-reply",
   "metadata": {
    "scrolled": true
   },
   "outputs": [],
   "source": [
    "model = tf.keras.models.Sequential([\n",
    "    tf.keras.layers.Conv2D(64, (3,3), activation='relu', input_shape=(150, 150, 3)),\n",
    "    tf.keras.layers.MaxPooling2D(2, 2),\n",
    "    tf.keras.layers.Conv2D(64, (3,3), activation='relu'),\n",
    "    tf.keras.layers.MaxPooling2D(2,2),\n",
    "    tf.keras.layers.Conv2D(128, (3,3), activation='relu'),\n",
    "    tf.keras.layers.MaxPooling2D(2,2),\n",
    "    tf.keras.layers.Conv2D(128, (3,3), activation='relu'),\n",
    "    tf.keras.layers.MaxPooling2D(2,2),\n",
    "    tf.keras.layers.Flatten(),\n",
    "    tf.keras.layers.Dropout(0.5),\n",
    "    tf.keras.layers.Dense(512, activation='relu'),\n",
    "    tf.keras.layers.Dense(4, activation='softmax')\n",
    "])\n",
    "\n",
    "model.summary()"
   ]
  },
  {
   "cell_type": "code",
   "execution_count": null,
   "id": "subsequent-activation",
   "metadata": {},
   "outputs": [],
   "source": [
    "model.compile(loss = 'categorical_crossentropy', optimizer='rmsprop', metrics=['accuracy'])\n",
    "\n",
    "early_stopping_cb = tf.keras.callbacks.EarlyStopping(patience=5)\n",
    "checkpoint_cb = tf.keras.callbacks.ModelCheckpoint(\"cnn.h5\", save_best_only=True)\n",
    "\n",
    "history = model.fit(train_generator, epochs=50, steps_per_epoch=46, \n",
    "                    validation_data = validation_generator, validation_steps=12, callbacks=[early_stopping_cb, checkpoint_cb])"
   ]
  },
  {
   "cell_type": "code",
   "execution_count": null,
   "id": "incorporate-signature",
   "metadata": {},
   "outputs": [],
   "source": [
    "import matplotlib.pyplot as plt\n",
    "acc = history.history['accuracy']\n",
    "val_acc = history.history['val_accuracy']\n",
    "loss = history.history['loss']\n",
    "val_loss = history.history['val_loss']\n",
    "\n",
    "epochs = range(len(acc))\n",
    "\n",
    "plt.plot(epochs, acc, 'r', label='Training accuracy')\n",
    "plt.plot(epochs, val_acc, 'b', label='Validation accuracy')\n",
    "plt.title('Training and validation accuracy')\n",
    "plt.legend(loc=0)\n",
    "plt.show()"
   ]
  },
  {
   "cell_type": "code",
   "execution_count": null,
   "id": "stylish-negotiation",
   "metadata": {},
   "outputs": [],
   "source": [
    "model = tf.keras.models.load_model(\"cnn.h5\") # rollback to best model\n",
    "model.evaluate(validation_generator)"
   ]
  },
  {
   "cell_type": "code",
   "execution_count": null,
   "id": "latest-industry",
   "metadata": {},
   "outputs": [],
   "source": [
    "from keras_preprocessing import image\n",
    "\n",
    "X_test = []\n",
    "for index, data in test.iterrows():\n",
    "    filepath = os.path.join(SOURCE, index + \".jpg\")\n",
    "    img = image.load_img(filepath, target_size=(150, 150))\n",
    "    x = image.img_to_array(img)\n",
    "    x = np.expand_dims(x, axis=0)\n",
    "    X_test.append(x)\n",
    "    \n",
    "X_test = np.vstack(X_test) / 255 # rescale images"
   ]
  },
  {
   "cell_type": "code",
   "execution_count": null,
   "id": "moved-motel",
   "metadata": {},
   "outputs": [],
   "source": [
    "y_pred = model.predict(X_test, batch_size=10)\n",
    "df_out = pd.concat([test.reset_index(), pd.DataFrame(y_pred, columns = train_generator.class_indices.keys())], axis=1).set_index(\"image_id\")\n",
    "df_out.to_csv('submission.csv')\n",
    "df_out.head()"
   ]
  },
  {
   "cell_type": "code",
   "execution_count": null,
   "id": "motivated-popularity",
   "metadata": {},
   "outputs": [],
   "source": []
  }
 ],
 "metadata": {
  "kernelspec": {
   "display_name": "Python 3",
   "language": "python",
   "name": "python3"
  },
  "language_info": {
   "codemirror_mode": {
    "name": "ipython",
    "version": 3
   },
   "file_extension": ".py",
   "mimetype": "text/x-python",
   "name": "python",
   "nbconvert_exporter": "python",
   "pygments_lexer": "ipython3",
   "version": "3.7.9"
  }
 },
 "nbformat": 4,
 "nbformat_minor": 5
}
